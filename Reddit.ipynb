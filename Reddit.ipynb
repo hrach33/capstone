{
 "cells": [
  {
   "cell_type": "markdown",
   "metadata": {},
   "source": [
    "# Setup:"
   ]
  },
  {
   "cell_type": "code",
   "execution_count": 14,
   "metadata": {},
   "outputs": [],
   "source": [
    "import praw\n",
    "import csv\n",
    "import pandas as pd\n",
    "from tqdm import tqdm_notebook, tqdm\n",
    "from datetime import datetime "
   ]
  },
  {
   "cell_type": "code",
   "execution_count": 2,
   "metadata": {},
   "outputs": [],
   "source": [
    "reddit = praw.Reddit(client_id='OPV1wsaqbio8yA',\n",
    "                     client_secret='xM_zLZjDaqwex_rH4vcfpoEvCqc',\n",
    "                     password='capstone',\n",
    "                     user_agent='testscript by /u/capstone33',\n",
    "                     username='capstone33')"
   ]
  },
  {
   "cell_type": "code",
   "execution_count": 3,
   "metadata": {},
   "outputs": [
    {
     "name": "stdout",
     "output_type": "stream",
     "text": [
      "capstone33\n"
     ]
    }
   ],
   "source": [
    "print(reddit.user.me())"
   ]
  },
  {
   "cell_type": "markdown",
   "metadata": {},
   "source": [
    "# Web Scraping:"
   ]
  },
  {
   "cell_type": "code",
   "execution_count": 4,
   "metadata": {},
   "outputs": [
    {
     "data": {
      "text/plain": [
       "[]"
      ]
     },
     "execution_count": 4,
     "metadata": {},
     "output_type": "execute_result"
    }
   ],
   "source": [
    "submission = reddit.submission(url='https://www.reddit.com/r/funny/comments/3g1jfi/buttons/')\n",
    "submission.comment_sort = 'new'   #sort from newest\n",
    "submission.comments.replace_more(limit=None)"
   ]
  },
  {
   "cell_type": "code",
   "execution_count": 5,
   "metadata": {},
   "outputs": [
    {
     "name": "stdout",
     "output_type": "stream",
     "text": [
      "Buttons\n",
      "36883\n",
      "3g1jfi\n",
      "http://41.media.tumblr.com/a353323397c0aa0b4cfbc21eead3d48f/tumblr_ns7d7t7F6H1rvcmlco1_1280.jpg\n"
     ]
    }
   ],
   "source": [
    "print(submission.title)  # Output: the submission's title\n",
    "print(submission.score)  # Output: the submission's score\n",
    "print(submission.id)     # Output: the submission's ID\n",
    "print(submission.url)    # Output: the URL the submission points to           "
   ]
  },
  {
   "cell_type": "code",
   "execution_count": 21,
   "metadata": {},
   "outputs": [
    {
     "name": "stderr",
     "output_type": "stream",
     "text": [
      "\n",
      "0it [00:00, ?it/s]\u001b[A\n"
     ]
    },
    {
     "name": "stdout",
     "output_type": "stream",
     "text": [
      "Time elapsed (hh:mm:ss) 0:00:22\n"
     ]
    }
   ],
   "source": [
    "subreddit = reddit.subreddit('Bitcoin')\n",
    "# https://www.reddit.com/r/Bitcoin/comments/\n",
    "\n",
    "fieldnames = ['id', 'date', 'comment', 'category']\n",
    "\n",
    "start_time = datetime.now().replace(microsecond=0)\n",
    "\n",
    "with open('reddit_comments.csv', 'w') as csvfile:\n",
    "\n",
    "    writer = csv.DictWriter(csvfile, fieldnames=fieldnames)\n",
    "    writer.writeheader()\n",
    "    for submission in tqdm(reddit.subreddit('all').hot()):\n",
    "        submission.comment_sort = 'new'   #sort from newest\n",
    "        submission.comments.replace_more(limit=None)\n",
    "        top_level_comments = list(submission.comments)\n",
    "        all_comments = submission.comments.list()\n",
    "        comment_queue = submission.comments[:]  # Seed with top-level\n",
    "\n",
    "        while comment_queue:\n",
    "            comment = comment_queue.pop(0)\n",
    "            time = comment.created\n",
    "            date = datetime.fromtimestamp(time).strftime(\"%Y-%m-%d %H:%M:%S\")\n",
    "            writer.writerow({'id': comment, 'date': date, 'comment':comment.body, 'category':'top' })\n",
    "\n",
    "\n",
    "            for sub_comment in comment.replies:\n",
    "                time = sub_comment.created\n",
    "                date = datetime.fromtimestamp(time).strftime(\"%Y-%m-%d %H:%M:%S\")\n",
    "                writer.writerow({'id': sub_comment, 'date': date, 'comment':sub_comment.body, 'category': comment })\n",
    "\n",
    "time_elapsed = datetime.now().replace(microsecond=0) - start_time \n",
    "print('Time elapsed (hh:mm:ss) {}'.format(time_elapsed))"
   ]
  },
  {
   "cell_type": "code",
   "execution_count": null,
   "metadata": {},
   "outputs": [],
   "source": [
    "top_level_comments = list(submission.comments)\n",
    "all_comments = submission.comments.list()"
   ]
  },
  {
   "cell_type": "code",
   "execution_count": null,
   "metadata": {},
   "outputs": [],
   "source": [
    "comment_queue = submission.comments[:]  # Seed with top-level\n",
    "\n",
    "fieldnames = ['id', 'date', 'comment', 'category']\n",
    "\n",
    "with open('reddit_comments.csv', 'w') as csvfile:\n",
    "    writer = csv.DictWriter(csvfile, fieldnames=fieldnames)\n",
    "    writer.writeheader()\n",
    "    while comment_queue:\n",
    "        comment = comment_queue.pop(0)\n",
    "        time = comment.created\n",
    "        date = datetime.datetime.fromtimestamp(time).strftime(\"%Y-%m-%d %H:%M:%S\")\n",
    "        writer.writerow({'id': comment, 'date': date, 'comment':comment.body, 'category':'top' })\n",
    "        \n",
    "        \n",
    "        for sub_comment in comment.replies:\n",
    "            time = sub_comment.created\n",
    "            date = datetime.datetime.fromtimestamp(time).strftime(\"%Y-%m-%d %H:%M:%S\")\n",
    "            writer.writerow({'id': sub_comment, 'date': date, 'comment':sub_comment.body, 'category': comment })\n",
    " \n",
    "       "
   ]
  },
  {
   "cell_type": "code",
   "execution_count": 23,
   "metadata": {},
   "outputs": [],
   "source": [
    "df = pd.read_csv('reddit_comments.csv')"
   ]
  },
  {
   "cell_type": "code",
   "execution_count": 24,
   "metadata": {},
   "outputs": [
    {
     "data": {
      "text/html": [
       "<div>\n",
       "<style>\n",
       "    .dataframe thead tr:only-child th {\n",
       "        text-align: right;\n",
       "    }\n",
       "\n",
       "    .dataframe thead th {\n",
       "        text-align: left;\n",
       "    }\n",
       "\n",
       "    .dataframe tbody tr th {\n",
       "        vertical-align: top;\n",
       "    }\n",
       "</style>\n",
       "<table border=\"1\" class=\"dataframe\">\n",
       "  <thead>\n",
       "    <tr style=\"text-align: right;\">\n",
       "      <th></th>\n",
       "      <th>id</th>\n",
       "      <th>date</th>\n",
       "      <th>comment</th>\n",
       "      <th>category</th>\n",
       "    </tr>\n",
       "  </thead>\n",
       "  <tbody>\n",
       "    <tr>\n",
       "      <th>0</th>\n",
       "      <td>dth5fj3</td>\n",
       "      <td>2018-01-31 06:28:38</td>\n",
       "      <td>\\nAs a reminder, this subreddit [is for civil ...</td>\n",
       "      <td>top</td>\n",
       "    </tr>\n",
       "    <tr>\n",
       "      <th>1</th>\n",
       "      <td>dthlzlc</td>\n",
       "      <td>2018-01-31 10:44:42</td>\n",
       "      <td>i cant take anymore.   i think im giving up tr...</td>\n",
       "      <td>top</td>\n",
       "    </tr>\n",
       "    <tr>\n",
       "      <th>2</th>\n",
       "      <td>dthlyvv</td>\n",
       "      <td>2018-01-31 10:44:23</td>\n",
       "      <td>So it wasn't just Trump... the entire Party co...</td>\n",
       "      <td>top</td>\n",
       "    </tr>\n",
       "    <tr>\n",
       "      <th>3</th>\n",
       "      <td>dthlytu</td>\n",
       "      <td>2018-01-31 10:44:22</td>\n",
       "      <td>Cleanse the FBI of persons with political opin...</td>\n",
       "      <td>top</td>\n",
       "    </tr>\n",
       "    <tr>\n",
       "      <th>4</th>\n",
       "      <td>dthly3d</td>\n",
       "      <td>2018-01-31 10:44:02</td>\n",
       "      <td>Time to cleanse the GOP. Seriously.</td>\n",
       "      <td>top</td>\n",
       "    </tr>\n",
       "  </tbody>\n",
       "</table>\n",
       "</div>"
      ],
      "text/plain": [
       "        id                 date  \\\n",
       "0  dth5fj3  2018-01-31 06:28:38   \n",
       "1  dthlzlc  2018-01-31 10:44:42   \n",
       "2  dthlyvv  2018-01-31 10:44:23   \n",
       "3  dthlytu  2018-01-31 10:44:22   \n",
       "4  dthly3d  2018-01-31 10:44:02   \n",
       "\n",
       "                                             comment category  \n",
       "0  \\nAs a reminder, this subreddit [is for civil ...      top  \n",
       "1  i cant take anymore.   i think im giving up tr...      top  \n",
       "2  So it wasn't just Trump... the entire Party co...      top  \n",
       "3  Cleanse the FBI of persons with political opin...      top  \n",
       "4               Time to cleanse the GOP. Seriously.       top  "
      ]
     },
     "execution_count": 24,
     "metadata": {},
     "output_type": "execute_result"
    }
   ],
   "source": [
    "df.head()"
   ]
  },
  {
   "cell_type": "code",
   "execution_count": 25,
   "metadata": {},
   "outputs": [
    {
     "data": {
      "text/html": [
       "<div>\n",
       "<style>\n",
       "    .dataframe thead tr:only-child th {\n",
       "        text-align: right;\n",
       "    }\n",
       "\n",
       "    .dataframe thead th {\n",
       "        text-align: left;\n",
       "    }\n",
       "\n",
       "    .dataframe tbody tr th {\n",
       "        vertical-align: top;\n",
       "    }\n",
       "</style>\n",
       "<table border=\"1\" class=\"dataframe\">\n",
       "  <thead>\n",
       "    <tr style=\"text-align: right;\">\n",
       "      <th></th>\n",
       "      <th>id</th>\n",
       "      <th>date</th>\n",
       "      <th>comment</th>\n",
       "      <th>category</th>\n",
       "    </tr>\n",
       "  </thead>\n",
       "  <tbody>\n",
       "    <tr>\n",
       "      <th>47</th>\n",
       "      <td>dthltty</td>\n",
       "      <td>2018-01-31 10:42:04</td>\n",
       "      <td>And yet none of that is what the republicans o...</td>\n",
       "      <td>dthlh8u</td>\n",
       "    </tr>\n",
       "    <tr>\n",
       "      <th>81</th>\n",
       "      <td>dthl81a</td>\n",
       "      <td>2018-01-31 10:32:05</td>\n",
       "      <td>You mean the people busting child pornographer...</td>\n",
       "      <td>dthl215</td>\n",
       "    </tr>\n",
       "    <tr>\n",
       "      <th>83</th>\n",
       "      <td>dthlft5</td>\n",
       "      <td>2018-01-31 10:35:38</td>\n",
       "      <td>Who has said that it is a complete fiction?  W...</td>\n",
       "      <td>dthl1lb</td>\n",
       "    </tr>\n",
       "    <tr>\n",
       "      <th>88</th>\n",
       "      <td>dthl8bv</td>\n",
       "      <td>2018-01-31 10:32:12</td>\n",
       "      <td>Agreed!</td>\n",
       "      <td>dthl0uc</td>\n",
       "    </tr>\n",
       "    <tr>\n",
       "      <th>91</th>\n",
       "      <td>dthlvjq</td>\n",
       "      <td>2018-01-31 10:42:52</td>\n",
       "      <td>It's more complicated as many \"business\" Repub...</td>\n",
       "      <td>dthkz91</td>\n",
       "    </tr>\n",
       "  </tbody>\n",
       "</table>\n",
       "</div>"
      ],
      "text/plain": [
       "         id                 date  \\\n",
       "47  dthltty  2018-01-31 10:42:04   \n",
       "81  dthl81a  2018-01-31 10:32:05   \n",
       "83  dthlft5  2018-01-31 10:35:38   \n",
       "88  dthl8bv  2018-01-31 10:32:12   \n",
       "91  dthlvjq  2018-01-31 10:42:52   \n",
       "\n",
       "                                              comment category  \n",
       "47  And yet none of that is what the republicans o...  dthlh8u  \n",
       "81  You mean the people busting child pornographer...  dthl215  \n",
       "83  Who has said that it is a complete fiction?  W...  dthl1lb  \n",
       "88                                            Agreed!  dthl0uc  \n",
       "91  It's more complicated as many \"business\" Repub...  dthkz91  "
      ]
     },
     "execution_count": 25,
     "metadata": {},
     "output_type": "execute_result"
    }
   ],
   "source": [
    "df[df.category != 'top'].head()"
   ]
  },
  {
   "cell_type": "code",
   "execution_count": 13,
   "metadata": {},
   "outputs": [
    {
     "data": {
      "text/plain": [
       "Multireddit(path='/user/bitcoin/m/programming')"
      ]
     },
     "execution_count": 13,
     "metadata": {},
     "output_type": "execute_result"
    }
   ],
   "source": [
    "reddit.multireddit('bitcoin', 'programming')"
   ]
  },
  {
   "cell_type": "code",
   "execution_count": 14,
   "metadata": {},
   "outputs": [
    {
     "name": "stdout",
     "output_type": "stream",
     "text": [
      "gadgets\n",
      "sports\n",
      "gaming\n",
      "pics\n",
      "worldnews\n",
      "videos\n",
      "AskReddit\n",
      "aww\n",
      "Music\n",
      "funny\n",
      "news\n",
      "movies\n",
      "blog\n",
      "books\n",
      "history\n",
      "food\n",
      "philosophy\n",
      "television\n",
      "Jokes\n",
      "Art\n",
      "DIY\n",
      "space\n",
      "Documentaries\n",
      "askscience\n",
      "nottheonion\n",
      "armenia\n",
      "todayilearned\n",
      "personalfinance\n",
      "gifs\n",
      "listentothis\n",
      "IAmA\n",
      "announcements\n",
      "TwoXChromosomes\n",
      "creepy\n",
      "nosleep\n",
      "GetMotivated\n",
      "WritingPrompts\n",
      "LifeProTips\n",
      "EarthPorn\n",
      "explainlikeimfive\n",
      "Showerthoughts\n",
      "Futurology\n",
      "photoshopbattles\n",
      "mildlyinteresting\n",
      "dataisbeautiful\n",
      "tifu\n",
      "OldSchoolCool\n",
      "UpliftingNews\n",
      "InternetIsBeautiful\n",
      "science\n"
     ]
    }
   ],
   "source": [
    "for subreddit in reddit.subreddits.default(limit=None):\n",
    "    print(subreddit)"
   ]
  },
  {
   "cell_type": "code",
   "execution_count": 42,
   "metadata": {},
   "outputs": [
    {
     "name": "stdout",
     "output_type": "stream",
     "text": [
      "The First Purge - Official Poster\n",
      "California Senate defies FCC, approves net neutrality law\n",
      "This is an intact human nervous system that was dissected by 2 medical students in 1925. It took them over 1500 hours. There are only 4 of these in the world.\n",
      "Ken M on God\n",
      "Daisy Ridley and her sister!\n",
      "How scientists collect spider silk\n",
      "Father buys $64,259 ad calling for police to reopen investigation into son's death\n",
      "by the BBC to interview the BBC\n",
      "LPT: Pee standing from a distance of several feet (or more). You will not only better oxygenate the solution, but also urinate all over the bathroom.\n",
      "FBI has second dossier on possible Trump-Russia collusion\n",
      "“Quit messing around, someone’s going to get hurt.”\n",
      "How the car was driven in Baby Driver when the actors were busy acting inside\n",
      "Ashad on a whole different level\n",
      "Not my first, could be my last, State of the Snoo-nion\n",
      "But the revenue! How could he?\n",
      "The Northern Lights from a window seat on a flight to Iceland\n",
      "Hanging out with other redditors\n",
      "An Incredibly Fast Turtle\n",
      "FBI has second dossier on possible Trump-Russia collusion\n",
      "The NHL's Twitter page made this college in honour of Jaromir Jagr\n",
      "And the Grammy goes to...\n",
      "Thanks for inviting me.\n",
      "UPS dog delivery\n",
      "Amazing keyboard.\n",
      "Dream job\n"
     ]
    }
   ],
   "source": [
    "subreddit = reddit.subreddit('Bitcoin')\n",
    "# https://www.reddit.com/r/Bitcoin/comments/\n",
    "for submission in reddit.subreddit('all').hot(limit=25):\n",
    "    print(submission.title)"
   ]
  }
 ],
 "metadata": {
  "kernelspec": {
   "display_name": "Python 3",
   "language": "python",
   "name": "python3"
  },
  "language_info": {
   "codemirror_mode": {
    "name": "ipython",
    "version": 3
   },
   "file_extension": ".py",
   "mimetype": "text/x-python",
   "name": "python",
   "nbconvert_exporter": "python",
   "pygments_lexer": "ipython3",
   "version": "3.6.0"
  }
 },
 "nbformat": 4,
 "nbformat_minor": 2
}
