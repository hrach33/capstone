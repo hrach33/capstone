{
 "cells": [
  {
   "cell_type": "markdown",
   "metadata": {},
   "source": [
    "# Setup"
   ]
  },
  {
   "cell_type": "code",
   "execution_count": 1,
   "metadata": {
    "collapsed": true
   },
   "outputs": [],
   "source": [
    "import numpy as np\n",
    "import pandas as pd\n",
    "import matplotlib.pyplot as plt\n",
    "import gdax\n",
    "%matplotlib inline  "
   ]
  },
  {
   "cell_type": "code",
   "execution_count": 2,
   "metadata": {
    "collapsed": true
   },
   "outputs": [],
   "source": [
    "import plotly.plotly as py\n",
    "import plotly.graph_objs as go\n",
    "import plotly"
   ]
  },
  {
   "cell_type": "code",
   "execution_count": 3,
   "metadata": {
    "collapsed": true
   },
   "outputs": [],
   "source": [
    "from datetime import datetime\n",
    "from datetime import timedelta\n",
    "import calendar"
   ]
  },
  {
   "cell_type": "code",
   "execution_count": 4,
   "metadata": {
    "collapsed": true
   },
   "outputs": [],
   "source": [
    "plotly.tools.set_credentials_file(username='gasia4444', api_key='rC8FB3pveGzyME366dL7')\n",
    "\n",
    "# plotly.tools.set_credentials_file(username='gasia44', api_key='WquddqqfPKg5KJfPJFuk')"
   ]
  },
  {
   "cell_type": "markdown",
   "metadata": {},
   "source": [
    "# GDAX to get BTC historical data"
   ]
  },
  {
   "cell_type": "code",
   "execution_count": 5,
   "metadata": {
    "collapsed": true
   },
   "outputs": [],
   "source": [
    "mod = gdax.PublicClient()\n",
    "data = mod.get_product_historic_rates('BTC-USD')\n",
    "df = pd.DataFrame(data, columns = ['time', 'low', 'high', 'open', 'close', 'volume'])\n",
    "df = df.sort_values('time', ascending=True).reset_index(drop = True)"
   ]
  },
  {
   "cell_type": "code",
   "execution_count": 6,
   "metadata": {},
   "outputs": [
    {
     "data": {
      "text/html": [
       "<div>\n",
       "<style scoped>\n",
       "    .dataframe tbody tr th:only-of-type {\n",
       "        vertical-align: middle;\n",
       "    }\n",
       "\n",
       "    .dataframe tbody tr th {\n",
       "        vertical-align: top;\n",
       "    }\n",
       "\n",
       "    .dataframe thead th {\n",
       "        text-align: right;\n",
       "    }\n",
       "</style>\n",
       "<table border=\"1\" class=\"dataframe\">\n",
       "  <thead>\n",
       "    <tr style=\"text-align: right;\">\n",
       "      <th></th>\n",
       "      <th>time</th>\n",
       "      <th>low</th>\n",
       "      <th>high</th>\n",
       "      <th>open</th>\n",
       "      <th>close</th>\n",
       "      <th>volume</th>\n",
       "    </tr>\n",
       "  </thead>\n",
       "  <tbody>\n",
       "    <tr>\n",
       "      <th>0</th>\n",
       "      <td>1522592100</td>\n",
       "      <td>6521.43</td>\n",
       "      <td>6538.52</td>\n",
       "      <td>6538.52</td>\n",
       "      <td>6534.81</td>\n",
       "      <td>7.970211</td>\n",
       "    </tr>\n",
       "    <tr>\n",
       "      <th>1</th>\n",
       "      <td>1522592160</td>\n",
       "      <td>6534.80</td>\n",
       "      <td>6534.81</td>\n",
       "      <td>6534.81</td>\n",
       "      <td>6534.80</td>\n",
       "      <td>3.942811</td>\n",
       "    </tr>\n",
       "    <tr>\n",
       "      <th>2</th>\n",
       "      <td>1522592220</td>\n",
       "      <td>6534.12</td>\n",
       "      <td>6534.81</td>\n",
       "      <td>6534.81</td>\n",
       "      <td>6534.81</td>\n",
       "      <td>6.619137</td>\n",
       "    </tr>\n",
       "    <tr>\n",
       "      <th>3</th>\n",
       "      <td>1522592280</td>\n",
       "      <td>6511.03</td>\n",
       "      <td>6528.19</td>\n",
       "      <td>6527.20</td>\n",
       "      <td>6511.03</td>\n",
       "      <td>12.328278</td>\n",
       "    </tr>\n",
       "    <tr>\n",
       "      <th>4</th>\n",
       "      <td>1522592340</td>\n",
       "      <td>6511.04</td>\n",
       "      <td>6513.36</td>\n",
       "      <td>6511.04</td>\n",
       "      <td>6513.36</td>\n",
       "      <td>9.755722</td>\n",
       "    </tr>\n",
       "  </tbody>\n",
       "</table>\n",
       "</div>"
      ],
      "text/plain": [
       "         time      low     high     open    close     volume\n",
       "0  1522592100  6521.43  6538.52  6538.52  6534.81   7.970211\n",
       "1  1522592160  6534.80  6534.81  6534.81  6534.80   3.942811\n",
       "2  1522592220  6534.12  6534.81  6534.81  6534.81   6.619137\n",
       "3  1522592280  6511.03  6528.19  6527.20  6511.03  12.328278\n",
       "4  1522592340  6511.04  6513.36  6511.04  6513.36   9.755722"
      ]
     },
     "execution_count": 6,
     "metadata": {},
     "output_type": "execute_result"
    }
   ],
   "source": [
    "df.head()"
   ]
  },
  {
   "cell_type": "markdown",
   "metadata": {},
   "source": [
    "# Analyze"
   ]
  },
  {
   "cell_type": "code",
   "execution_count": 7,
   "metadata": {
    "collapsed": true
   },
   "outputs": [],
   "source": [
    "import datetime\n",
    "utc_time = datetime.datetime.utcfromtimestamp(np.min(df.time.values))"
   ]
  },
  {
   "cell_type": "code",
   "execution_count": 8,
   "metadata": {
    "collapsed": true
   },
   "outputs": [],
   "source": [
    "date_time = []\n",
    "for i in df.time.values:\n",
    "    utc_time = datetime.datetime.utcfromtimestamp(i)\n",
    "    utc_time.strftime(\"%Y-%m-%d %H:%M:%S (UTC)\")\n",
    "    date_time.append(utc_time.strftime(\"%Y-%m-%d %H:%M:%S\"))"
   ]
  },
  {
   "cell_type": "code",
   "execution_count": 9,
   "metadata": {
    "collapsed": true
   },
   "outputs": [],
   "source": [
    "df['timestamp'] = pd.to_datetime(date_time)\n",
    "dd = df.set_index('timestamp')"
   ]
  },
  {
   "cell_type": "code",
   "execution_count": 10,
   "metadata": {},
   "outputs": [
    {
     "name": "stdout",
     "output_type": "stream",
     "text": [
      "<class 'pandas.core.frame.DataFrame'>\n",
      "DatetimeIndex: 300 entries, 2018-04-01 14:15:00 to 2018-04-01 19:14:00\n",
      "Data columns (total 6 columns):\n",
      "time      300 non-null int64\n",
      "low       300 non-null float64\n",
      "high      300 non-null float64\n",
      "open      300 non-null float64\n",
      "close     300 non-null float64\n",
      "volume    300 non-null float64\n",
      "dtypes: float64(5), int64(1)\n",
      "memory usage: 16.4 KB\n"
     ]
    }
   ],
   "source": [
    "dd.info()"
   ]
  },
  {
   "cell_type": "code",
   "execution_count": 11,
   "metadata": {
    "collapsed": true
   },
   "outputs": [],
   "source": [
    "dd = dd.drop('time', axis = 1)\n",
    "dd = dd.drop('volume', axis = 1)"
   ]
  },
  {
   "cell_type": "code",
   "execution_count": 12,
   "metadata": {},
   "outputs": [
    {
     "name": "stderr",
     "output_type": "stream",
     "text": [
      "No handles with labels found to put in legend.\n"
     ]
    },
    {
     "data": {
      "image/png": "[encoded data removed]",
      "text/plain": [
       "<matplotlib.figure.Figure at 0x7fc0f9d61cf8>"
      ]
     },
     "metadata": {},
     "output_type": "display_data"
    }
   ],
   "source": [
    "plt.figure(figsize = (15,7))\n",
    "plt.plot(dd)\n",
    "plt.legend()\n",
    "plt.show()"
   ]
  },
  {
   "cell_type": "code",
   "execution_count": 13,
   "metadata": {},
   "outputs": [
    {
     "data": {
      "text/plain": [
       "Index(['low', 'high', 'open', 'close'], dtype='object')"
      ]
     },
     "execution_count": 13,
     "metadata": {},
     "output_type": "execute_result"
    }
   ],
   "source": [
    "dd.columns"
   ]
  },
  {
   "cell_type": "code",
   "execution_count": 14,
   "metadata": {},
   "outputs": [
    {
     "name": "stdout",
     "output_type": "stream",
     "text": [
      "High five! You successfully sent some data to your account on plotly. View your plot in your browser at https://plot.ly/~gasia4444/0 or inside your plot.ly account where it is named 'gasia'\n"
     ]
    },
    {
     "data": {
      "text/html": [
       "<iframe id=\"igraph\" scrolling=\"no\" style=\"border:none;\" seamless=\"seamless\" src=\"https://plot.ly/~gasia4444/0.embed\" height=\"525px\" width=\"100%\"></iframe>"
      ],
      "text/plain": [
       "<plotly.tools.PlotlyDisplay object>"
      ]
     },
     "execution_count": 14,
     "metadata": {},
     "output_type": "execute_result"
    }
   ],
   "source": [
    "data = [\n",
    "       go.Scatter(\n",
    "          x = dd.index,\n",
    "          y = dd.low,\n",
    "          mode='lines',\n",
    "          name='low'),\n",
    "    \n",
    "        go.Scatter(\n",
    "          x = dd.index,\n",
    "          y = dd.high,\n",
    "          mode='lines',\n",
    "          name='high'),\n",
    "    \n",
    "        go.Scatter(\n",
    "          x = dd.index,\n",
    "          y = dd.open,\n",
    "          mode='lines',\n",
    "          name='open'),\n",
    "    \n",
    "        go.Scatter(\n",
    "          x = dd.index,\n",
    "          y = dd.close,\n",
    "          mode='lines',\n",
    "          name='close'),\n",
    "    \n",
    "    ]\n",
    "py.iplot(data, filename = 'gasia')"
   ]
  },
  {
   "cell_type": "markdown",
   "metadata": {},
   "source": [
    "# Get a lot of data"
   ]
  },
  {
   "cell_type": "code",
   "execution_count": 114,
   "metadata": {
    "collapsed": true
   },
   "outputs": [],
   "source": [
    "class GDAX(object):\n",
    "  \"\"\"Class for fetching candle data for a given currency pair.\"\"\"\n",
    "\n",
    "  def __init__(self, pair):\n",
    "    \"\"\"Create the exchange object.\n",
    "    Args:\n",
    "      pair (str): Examples: 'BTC-USD', 'ETH-USD'...\n",
    "    \"\"\"\n",
    "    self.pair = pair\n",
    "    self.uri = 'https://api.gdax.com/products/{pair}/candles'.format(pair=self.pair)\n",
    "\n",
    "  @staticmethod\n",
    "  def __date_to_iso8601(date):\n",
    "    \"\"\"Convert a datetime object to the ISO-8601 date format (expected by the GDAX API).\n",
    "    Args:\n",
    "      date (datetime): The date to be converted.\n",
    "    Returns:\n",
    "      str: The ISO-8601 formatted date.\n",
    "    \"\"\"\n",
    "    return '{year}-{month:02d}-{day:02d}T{hour:02d}:{minute:02d}:{second:02d}'.format(\n",
    "        year=date.year,\n",
    "        month=date.month,\n",
    "        day=date.day,\n",
    "        hour=date.hour,\n",
    "        minute=date.minute,\n",
    "        second=date.second)\n",
    "\n",
    "  def request_slice(self, start, end, granularity):\n",
    "    # Allow 3 retries (we might get rate limited).\n",
    "    retries = 3\n",
    "    for retry_count in xrange(0, retries):\n",
    "      # From https://docs.gdax.com/#get-historic-rates the response is in the format:\n",
    "      # [[time, low, high, open, close, volume], ...]\n",
    "      response = requests.get(self.uri, {\n",
    "        'start': GDAX.__date_to_iso8601(start),\n",
    "        'end': GDAX.__date_to_iso8601(end),\n",
    "        'granularity': granularity * 60  # GDAX API granularity is in seconds.\n",
    "      })\n",
    "\n",
    "      if response.status_code != 200 or not len(response.json()):\n",
    "        if retry_count + 1 == retries:\n",
    "          raise Exception('Failed to get exchange data for ({}, {})!'.format(start, end))\n",
    "        else:\n",
    "          # Exponential back-off.\n",
    "          sleep(1.5 ** retry_count)\n",
    "      else:\n",
    "        # Sort the historic rates (in ascending order) based on the timestamp.\n",
    "        result = sorted(response.json(), key=lambda x: x[0])\n",
    "        return result\n",
    "\n",
    "  def fetch(self, start, end, granularity):\n",
    "    \"\"\"Fetch the candle data for a given range and granularity.\n",
    "    Args:\n",
    "      start (datetime): The start of the date range.\n",
    "      end (datetime): The end of the date range (excluded).\n",
    "      granularity (int): The granularity of the candles data (in minutes).\n",
    "    Returns:\n",
    "      (pandas.DataFrame): A data frame of the OHLC and volume information, indexed by their unix timestamp.\n",
    "    \"\"\"\n",
    "    data = []\n",
    "\n",
    "    # We will fetch the candle data in windows of maximum 100 items.\n",
    "    # GDAX has a limit of returning maximum of 200, per request.\n",
    "    delta = timedelta(minutes=granularity * 100)\n",
    "\n",
    "    slice_start = start\n",
    "    while slice_start != end:\n",
    "      slice_end = min(slice_start + delta, end)\n",
    "      data += self.request_slice(slice_start, slice_end, granularity)\n",
    "      slice_start = slice_end\n",
    "\n",
    "    data_frame = pandas.DataFrame(data=data, columns=['time', 'low', 'high', 'open', 'close', 'volume'])\n",
    "    data_frame.set_index('time', inplace=True)\n",
    "    return data_frame"
   ]
  },
  {
   "cell_type": "code",
   "execution_count": 115,
   "metadata": {},
   "outputs": [
    {
     "ename": "TypeError",
     "evalue": "'module' object is not callable",
     "output_type": "error",
     "traceback": [
      "\u001b[0;31m---------------------------------------------------------------------------\u001b[0m",
      "\u001b[0;31mTypeError\u001b[0m                                 Traceback (most recent call last)",
      "\u001b[0;32m<ipython-input-115-bd831373db53>\u001b[0m in \u001b[0;36m<module>\u001b[0;34m()\u001b[0m\n\u001b[0;32m----> 1\u001b[0;31m \u001b[0mdata_frame\u001b[0m \u001b[0;34m=\u001b[0m \u001b[0mGDAX\u001b[0m\u001b[0;34m(\u001b[0m\u001b[0;34m'LTC-EUR'\u001b[0m\u001b[0;34m)\u001b[0m\u001b[0;34m.\u001b[0m\u001b[0mfetch\u001b[0m\u001b[0;34m(\u001b[0m\u001b[0mdatetime\u001b[0m\u001b[0;34m(\u001b[0m\u001b[0;36m2017\u001b[0m\u001b[0;34m,\u001b[0m \u001b[0;36m6\u001b[0m\u001b[0;34m,\u001b[0m \u001b[0;36m1\u001b[0m\u001b[0;34m)\u001b[0m\u001b[0;34m,\u001b[0m \u001b[0mdatetime\u001b[0m\u001b[0;34m(\u001b[0m\u001b[0;36m2017\u001b[0m\u001b[0;34m,\u001b[0m \u001b[0;36m8\u001b[0m\u001b[0;34m,\u001b[0m \u001b[0;36m1\u001b[0m\u001b[0;34m)\u001b[0m\u001b[0;34m,\u001b[0m \u001b[0;36m1440\u001b[0m\u001b[0;34m)\u001b[0m\u001b[0;34m\u001b[0m\u001b[0m\n\u001b[0m",
      "\u001b[0;31mTypeError\u001b[0m: 'module' object is not callable"
     ]
    }
   ],
   "source": [
    "data_frame = GDAX('LTC-EUR').fetch(datetime(2017, 6, 1), datetime(2017, 8, 1), 1440)"
   ]
  },
  {
   "cell_type": "code",
   "execution_count": null,
   "metadata": {
    "collapsed": true
   },
   "outputs": [],
   "source": []
  },
  {
   "cell_type": "code",
   "execution_count": null,
   "metadata": {
    "collapsed": true
   },
   "outputs": [],
   "source": []
  },
  {
   "cell_type": "code",
   "execution_count": 15,
   "metadata": {
    "collapsed": true
   },
   "outputs": [],
   "source": [
    "from tqdm import tqdm, tqdm_notebook"
   ]
  },
  {
   "cell_type": "code",
   "execution_count": 160,
   "metadata": {},
   "outputs": [
    {
     "data": {
      "application/vnd.jupyter.widget-view+json": {
       "model_id": "8dc8efb460a44029b6163b7917107291",
       "version_major": 2,
       "version_minor": 0
      },
      "text/html": [
       "<p>Failed to display Jupyter Widget of type <code>HBox</code>.</p>\n",
       "<p>\n",
       "  If you're reading this message in the Jupyter Notebook or JupyterLab Notebook, it may mean\n",
       "  that the widgets JavaScript is still loading. If this message persists, it\n",
       "  likely means that the widgets JavaScript library is either not installed or\n",
       "  not enabled. See the <a href=\"https://ipywidgets.readthedocs.io/en/stable/user_install.html\">Jupyter\n",
       "  Widgets Documentation</a> for setup instructions.\n",
       "</p>\n",
       "<p>\n",
       "  If you're reading this message in another frontend (for example, a static\n",
       "  rendering on GitHub or <a href=\"https://nbviewer.jupyter.org/\">NBViewer</a>),\n",
       "  it may mean that your frontend doesn't currently support widgets.\n",
       "</p>\n"
      ],
      "text/plain": [
       "HBox(children=(IntProgress(value=0, max=546), HTML(value='')))"
      ]
     },
     "metadata": {},
     "output_type": "display_data"
    },
    {
     "name": "stdout",
     "output_type": "stream",
     "text": [
      "\n"
     ]
    }
   ],
   "source": [
    "end = pd.to_datetime('2017-01-01 00:00:00')\n",
    "for_until = pd.to_datetime('2018-04-01 00:00:00')\n",
    "all_data =[]\n",
    "mod = gdax.PublicClient()\n",
    "# for_until_unix = calendar.timegm(for_until.utctimetuple())\n",
    "# tq = for_until_unix - calendar.timegm(end.utctimetuple())\n",
    "\n",
    "ee = (for_until - end) \n",
    "pbar = tqdm_notebook(total = (ee.days*12)//10 )\n",
    "\n",
    "while end + timedelta(hours = 10) < for_until:\n",
    "    pbar.update(1)\n",
    "    \n",
    "    start = end \n",
    "    end  = start + timedelta(hours = 10)\n",
    "    mod = gdax.PublicClient()\n",
    "    data = mod.get_product_historic_rates('BTC-USD', start = start, end = end, granularity='300' )\n",
    "    all_data.extend(data)\n",
    "    \n",
    "    \n",
    "pbar.close()   "
   ]
  },
  {
   "cell_type": "code",
   "execution_count": 161,
   "metadata": {
    "collapsed": true
   },
   "outputs": [],
   "source": [
    "# ?mod.get_product_historic_rates"
   ]
  },
  {
   "cell_type": "code",
   "execution_count": 162,
   "metadata": {
    "collapsed": true
   },
   "outputs": [],
   "source": [
    "qq = [i for i in all_data if len(i) == 6]\n",
    "df = pd.DataFrame(qq, columns = ['time', 'low', 'high', 'open', 'close', 'volume'])\n",
    "# df = df.sort_values('time', ascending=True).reset_index(drop = True)"
   ]
  },
  {
   "cell_type": "code",
   "execution_count": 164,
   "metadata": {
    "collapsed": true
   },
   "outputs": [],
   "source": [
    "date_time = []\n",
    "for i in df.time.values:\n",
    "    utc_time = datetime.datetime.utcfromtimestamp(i)\n",
    "#     utc_time.strftime(\"%Y-%m-%d %H:%M:%S (UTC)\")\n",
    "    date_time.append(utc_time.strftime(\"%Y-%m-%d %H:%M:%S\"))"
   ]
  },
  {
   "cell_type": "code",
   "execution_count": 165,
   "metadata": {
    "collapsed": true
   },
   "outputs": [],
   "source": [
    "df['timestamp'] = pd.to_datetime(date_time)\n",
    "dd = df.set_index('timestamp')"
   ]
  },
  {
   "cell_type": "code",
   "execution_count": 166,
   "metadata": {},
   "outputs": [
    {
     "data": {
      "text/html": [
       "<div>\n",
       "<style scoped>\n",
       "    .dataframe tbody tr th:only-of-type {\n",
       "        vertical-align: middle;\n",
       "    }\n",
       "\n",
       "    .dataframe tbody tr th {\n",
       "        vertical-align: top;\n",
       "    }\n",
       "\n",
       "    .dataframe thead th {\n",
       "        text-align: right;\n",
       "    }\n",
       "</style>\n",
       "<table border=\"1\" class=\"dataframe\">\n",
       "  <thead>\n",
       "    <tr style=\"text-align: right;\">\n",
       "      <th></th>\n",
       "      <th>time</th>\n",
       "      <th>low</th>\n",
       "      <th>high</th>\n",
       "      <th>open</th>\n",
       "      <th>close</th>\n",
       "      <th>volume</th>\n",
       "    </tr>\n",
       "    <tr>\n",
       "      <th>timestamp</th>\n",
       "      <th></th>\n",
       "      <th></th>\n",
       "      <th></th>\n",
       "      <th></th>\n",
       "      <th></th>\n",
       "      <th></th>\n",
       "    </tr>\n",
       "  </thead>\n",
       "  <tbody>\n",
       "    <tr>\n",
       "      <th>2017-01-01 09:55:00</th>\n",
       "      <td>1483264500</td>\n",
       "      <td>970.08</td>\n",
       "      <td>970.38</td>\n",
       "      <td>970.09</td>\n",
       "      <td>970.38</td>\n",
       "      <td>1.873499</td>\n",
       "    </tr>\n",
       "    <tr>\n",
       "      <th>2017-01-01 09:50:00</th>\n",
       "      <td>1483264200</td>\n",
       "      <td>970.08</td>\n",
       "      <td>970.52</td>\n",
       "      <td>970.52</td>\n",
       "      <td>970.10</td>\n",
       "      <td>3.055400</td>\n",
       "    </tr>\n",
       "    <tr>\n",
       "      <th>2017-01-01 09:45:00</th>\n",
       "      <td>1483263900</td>\n",
       "      <td>969.93</td>\n",
       "      <td>970.62</td>\n",
       "      <td>969.93</td>\n",
       "      <td>970.30</td>\n",
       "      <td>2.865889</td>\n",
       "    </tr>\n",
       "    <tr>\n",
       "      <th>2017-01-01 09:40:00</th>\n",
       "      <td>1483263600</td>\n",
       "      <td>969.70</td>\n",
       "      <td>970.68</td>\n",
       "      <td>970.37</td>\n",
       "      <td>969.95</td>\n",
       "      <td>14.419408</td>\n",
       "    </tr>\n",
       "    <tr>\n",
       "      <th>2017-01-01 09:35:00</th>\n",
       "      <td>1483263300</td>\n",
       "      <td>970.23</td>\n",
       "      <td>970.38</td>\n",
       "      <td>970.23</td>\n",
       "      <td>970.38</td>\n",
       "      <td>1.430990</td>\n",
       "    </tr>\n",
       "  </tbody>\n",
       "</table>\n",
       "</div>"
      ],
      "text/plain": [
       "                           time     low    high    open   close     volume\n",
       "timestamp                                                                 \n",
       "2017-01-01 09:55:00  1483264500  970.08  970.38  970.09  970.38   1.873499\n",
       "2017-01-01 09:50:00  1483264200  970.08  970.52  970.52  970.10   3.055400\n",
       "2017-01-01 09:45:00  1483263900  969.93  970.62  969.93  970.30   2.865889\n",
       "2017-01-01 09:40:00  1483263600  969.70  970.68  970.37  969.95  14.419408\n",
       "2017-01-01 09:35:00  1483263300  970.23  970.38  970.23  970.38   1.430990"
      ]
     },
     "execution_count": 166,
     "metadata": {},
     "output_type": "execute_result"
    }
   ],
   "source": [
    "dd.head()"
   ]
  },
  {
   "cell_type": "code",
   "execution_count": 167,
   "metadata": {},
   "outputs": [
    {
     "data": {
      "text/html": [
       "<div>\n",
       "<style scoped>\n",
       "    .dataframe tbody tr th:only-of-type {\n",
       "        vertical-align: middle;\n",
       "    }\n",
       "\n",
       "    .dataframe tbody tr th {\n",
       "        vertical-align: top;\n",
       "    }\n",
       "\n",
       "    .dataframe thead th {\n",
       "        text-align: right;\n",
       "    }\n",
       "</style>\n",
       "<table border=\"1\" class=\"dataframe\">\n",
       "  <thead>\n",
       "    <tr style=\"text-align: right;\">\n",
       "      <th></th>\n",
       "      <th>time</th>\n",
       "      <th>low</th>\n",
       "      <th>high</th>\n",
       "      <th>open</th>\n",
       "      <th>close</th>\n",
       "      <th>volume</th>\n",
       "    </tr>\n",
       "    <tr>\n",
       "      <th>timestamp</th>\n",
       "      <th></th>\n",
       "      <th></th>\n",
       "      <th></th>\n",
       "      <th></th>\n",
       "      <th></th>\n",
       "      <th></th>\n",
       "    </tr>\n",
       "  </thead>\n",
       "  <tbody>\n",
       "    <tr>\n",
       "      <th>2018-03-31 04:20:00</th>\n",
       "      <td>1522470000</td>\n",
       "      <td>7001.00</td>\n",
       "      <td>7027.01</td>\n",
       "      <td>7027.01</td>\n",
       "      <td>7016.78</td>\n",
       "      <td>36.620171</td>\n",
       "    </tr>\n",
       "    <tr>\n",
       "      <th>2018-03-31 04:15:00</th>\n",
       "      <td>1522469700</td>\n",
       "      <td>7027.00</td>\n",
       "      <td>7027.69</td>\n",
       "      <td>7027.69</td>\n",
       "      <td>7027.01</td>\n",
       "      <td>13.486690</td>\n",
       "    </tr>\n",
       "    <tr>\n",
       "      <th>2018-03-31 04:10:00</th>\n",
       "      <td>1522469400</td>\n",
       "      <td>7014.99</td>\n",
       "      <td>7030.00</td>\n",
       "      <td>7015.00</td>\n",
       "      <td>7027.69</td>\n",
       "      <td>29.912234</td>\n",
       "    </tr>\n",
       "    <tr>\n",
       "      <th>2018-03-31 04:05:00</th>\n",
       "      <td>1522469100</td>\n",
       "      <td>6985.00</td>\n",
       "      <td>7017.14</td>\n",
       "      <td>6990.00</td>\n",
       "      <td>7015.00</td>\n",
       "      <td>33.018283</td>\n",
       "    </tr>\n",
       "    <tr>\n",
       "      <th>2018-03-31 04:00:00</th>\n",
       "      <td>1522468800</td>\n",
       "      <td>6968.00</td>\n",
       "      <td>6995.39</td>\n",
       "      <td>6969.00</td>\n",
       "      <td>6990.01</td>\n",
       "      <td>30.824588</td>\n",
       "    </tr>\n",
       "  </tbody>\n",
       "</table>\n",
       "</div>"
      ],
      "text/plain": [
       "                           time      low     high     open    close     volume\n",
       "timestamp                                                                     \n",
       "2018-03-31 04:20:00  1522470000  7001.00  7027.01  7027.01  7016.78  36.620171\n",
       "2018-03-31 04:15:00  1522469700  7027.00  7027.69  7027.69  7027.01  13.486690\n",
       "2018-03-31 04:10:00  1522469400  7014.99  7030.00  7015.00  7027.69  29.912234\n",
       "2018-03-31 04:05:00  1522469100  6985.00  7017.14  6990.00  7015.00  33.018283\n",
       "2018-03-31 04:00:00  1522468800  6968.00  6995.39  6969.00  6990.01  30.824588"
      ]
     },
     "execution_count": 167,
     "metadata": {},
     "output_type": "execute_result"
    }
   ],
   "source": [
    "dd.tail()"
   ]
  },
  {
   "cell_type": "code",
   "execution_count": 168,
   "metadata": {
    "collapsed": true
   },
   "outputs": [],
   "source": [
    "dd= dd.drop_duplicates()\n",
    "dd.sort_index(inplace=True)"
   ]
  },
  {
   "cell_type": "code",
   "execution_count": 169,
   "metadata": {
    "collapsed": true
   },
   "outputs": [],
   "source": [
    "dd.to_csv('bitcoin_data_2.csv')\n",
    "df = pd.read_csv('bitcoin_data_2.csv', parse_dates = ['timestamp']).set_index('timestamp')"
   ]
  },
  {
   "cell_type": "markdown",
   "metadata": {},
   "source": [
    "### append the new scraped data to the old one"
   ]
  },
  {
   "cell_type": "code",
   "execution_count": 47,
   "metadata": {
    "collapsed": true
   },
   "outputs": [],
   "source": [
    "# dd_new = dd.copy()\n",
    "# merged_data = pd.concat([df, dd_new])\n",
    "# merged_data.drop_duplicates(inplace=True)\n",
    "# merged_data = merged_data.sort_index()\n",
    "# merged_data.to_csv('bitcoin_data.csv')"
   ]
  },
  {
   "cell_type": "markdown",
   "metadata": {},
   "source": [
    "# Read Data"
   ]
  },
  {
   "cell_type": "code",
   "execution_count": 173,
   "metadata": {
    "collapsed": true
   },
   "outputs": [],
   "source": [
    "df = pd.read_csv('bitcoin_data_1.csv', parse_dates = ['timestamp']).set_index('timestamp')"
   ]
  },
  {
   "cell_type": "code",
   "execution_count": 174,
   "metadata": {
    "collapsed": true
   },
   "outputs": [],
   "source": [
    "df.sort_index(inplace=True)"
   ]
  },
  {
   "cell_type": "code",
   "execution_count": 200,
   "metadata": {},
   "outputs": [
    {
     "ename": "AttributeError",
     "evalue": "'DataFrame' object has no attribute 'low'",
     "output_type": "error",
     "traceback": [
      "\u001b[0;31m---------------------------------------------------------------------------\u001b[0m",
      "\u001b[0;31mAttributeError\u001b[0m                            Traceback (most recent call last)",
      "\u001b[0;32m<ipython-input-200-f726d6b39c44>\u001b[0m in \u001b[0;36m<module>\u001b[0;34m()\u001b[0m\n\u001b[1;32m      3\u001b[0m        go.Scatter(\n\u001b[1;32m      4\u001b[0m           \u001b[0mx\u001b[0m \u001b[0;34m=\u001b[0m \u001b[0mdd\u001b[0m\u001b[0;34m.\u001b[0m\u001b[0mindex\u001b[0m\u001b[0;34m,\u001b[0m\u001b[0;34m\u001b[0m\u001b[0m\n\u001b[0;32m----> 5\u001b[0;31m           \u001b[0my\u001b[0m \u001b[0;34m=\u001b[0m \u001b[0mdd\u001b[0m\u001b[0;34m.\u001b[0m\u001b[0mlow\u001b[0m\u001b[0;34m,\u001b[0m\u001b[0;34m\u001b[0m\u001b[0m\n\u001b[0m\u001b[1;32m      6\u001b[0m           \u001b[0mmode\u001b[0m\u001b[0;34m=\u001b[0m\u001b[0;34m'lines'\u001b[0m\u001b[0;34m,\u001b[0m\u001b[0;34m\u001b[0m\u001b[0m\n\u001b[1;32m      7\u001b[0m           name='low'),\n",
      "\u001b[0;32m~/anaconda3/lib/python3.6/site-packages/pandas/core/generic.py\u001b[0m in \u001b[0;36m__getattr__\u001b[0;34m(self, name)\u001b[0m\n\u001b[1;32m   3612\u001b[0m             \u001b[0;32mif\u001b[0m \u001b[0mname\u001b[0m \u001b[0;32min\u001b[0m \u001b[0mself\u001b[0m\u001b[0;34m.\u001b[0m\u001b[0m_info_axis\u001b[0m\u001b[0;34m:\u001b[0m\u001b[0;34m\u001b[0m\u001b[0m\n\u001b[1;32m   3613\u001b[0m                 \u001b[0;32mreturn\u001b[0m \u001b[0mself\u001b[0m\u001b[0;34m[\u001b[0m\u001b[0mname\u001b[0m\u001b[0;34m]\u001b[0m\u001b[0;34m\u001b[0m\u001b[0m\n\u001b[0;32m-> 3614\u001b[0;31m             \u001b[0;32mreturn\u001b[0m \u001b[0mobject\u001b[0m\u001b[0;34m.\u001b[0m\u001b[0m__getattribute__\u001b[0m\u001b[0;34m(\u001b[0m\u001b[0mself\u001b[0m\u001b[0;34m,\u001b[0m \u001b[0mname\u001b[0m\u001b[0;34m)\u001b[0m\u001b[0;34m\u001b[0m\u001b[0m\n\u001b[0m\u001b[1;32m   3615\u001b[0m \u001b[0;34m\u001b[0m\u001b[0m\n\u001b[1;32m   3616\u001b[0m     \u001b[0;32mdef\u001b[0m \u001b[0m__setattr__\u001b[0m\u001b[0;34m(\u001b[0m\u001b[0mself\u001b[0m\u001b[0;34m,\u001b[0m \u001b[0mname\u001b[0m\u001b[0;34m,\u001b[0m \u001b[0mvalue\u001b[0m\u001b[0;34m)\u001b[0m\u001b[0;34m:\u001b[0m\u001b[0;34m\u001b[0m\u001b[0m\n",
      "\u001b[0;31mAttributeError\u001b[0m: 'DataFrame' object has no attribute 'low'"
     ]
    }
   ],
   "source": [
    "dd = df\n",
    "data = [\n",
    "       go.Scatter(\n",
    "          x = dd.index,\n",
    "          y = dd.low,\n",
    "          mode='lines',\n",
    "          name='low'),\n",
    "    \n",
    "        go.Scatter(\n",
    "          x = dd.index,\n",
    "          y = dd.high,\n",
    "          mode='lines',\n",
    "          name='high'),\n",
    "    \n",
    "        go.Scatter(\n",
    "          x = dd.index,\n",
    "          y = dd.open,\n",
    "          mode='lines',\n",
    "          name='open'),\n",
    "    \n",
    "        go.Scatter(\n",
    "          x = dd.index,\n",
    "          y = dd.close,\n",
    "          mode='lines',\n",
    "          name='close'),\n",
    "    \n",
    "        go.Scatter(\n",
    "          x = dd.index,\n",
    "          y = dd.volume,\n",
    "          mode='lines',\n",
    "          name='volume'),\n",
    "    \n",
    "    ]\n",
    "py.iplot(data, filename = 'gasia')"
   ]
  },
  {
   "cell_type": "code",
   "execution_count": 176,
   "metadata": {
    "collapsed": true
   },
   "outputs": [],
   "source": [
    "dd = dd.drop('time', axis = 1)"
   ]
  },
  {
   "cell_type": "code",
   "execution_count": 177,
   "metadata": {},
   "outputs": [
    {
     "data": {
      "text/html": [
       "<div>\n",
       "<style scoped>\n",
       "    .dataframe tbody tr th:only-of-type {\n",
       "        vertical-align: middle;\n",
       "    }\n",
       "\n",
       "    .dataframe tbody tr th {\n",
       "        vertical-align: top;\n",
       "    }\n",
       "\n",
       "    .dataframe thead th {\n",
       "        text-align: right;\n",
       "    }\n",
       "</style>\n",
       "<table border=\"1\" class=\"dataframe\">\n",
       "  <thead>\n",
       "    <tr style=\"text-align: right;\">\n",
       "      <th></th>\n",
       "      <th>low</th>\n",
       "      <th>high</th>\n",
       "      <th>open</th>\n",
       "      <th>close</th>\n",
       "      <th>volume</th>\n",
       "    </tr>\n",
       "    <tr>\n",
       "      <th>timestamp</th>\n",
       "      <th></th>\n",
       "      <th></th>\n",
       "      <th></th>\n",
       "      <th></th>\n",
       "      <th></th>\n",
       "    </tr>\n",
       "  </thead>\n",
       "  <tbody>\n",
       "    <tr>\n",
       "      <th>2015-01-08 01:20:00</th>\n",
       "      <td>360.00</td>\n",
       "      <td>360.00</td>\n",
       "      <td>360.00</td>\n",
       "      <td>360.00</td>\n",
       "      <td>0.01</td>\n",
       "    </tr>\n",
       "    <tr>\n",
       "      <th>2015-01-08 01:25:00</th>\n",
       "      <td>271.60</td>\n",
       "      <td>344.67</td>\n",
       "      <td>271.84</td>\n",
       "      <td>344.67</td>\n",
       "      <td>0.06</td>\n",
       "    </tr>\n",
       "    <tr>\n",
       "      <th>2015-01-08 01:30:00</th>\n",
       "      <td>270.35</td>\n",
       "      <td>346.41</td>\n",
       "      <td>346.41</td>\n",
       "      <td>321.98</td>\n",
       "      <td>0.13</td>\n",
       "    </tr>\n",
       "    <tr>\n",
       "      <th>2015-01-08 01:35:00</th>\n",
       "      <td>281.36</td>\n",
       "      <td>349.67</td>\n",
       "      <td>302.25</td>\n",
       "      <td>341.35</td>\n",
       "      <td>0.11</td>\n",
       "    </tr>\n",
       "    <tr>\n",
       "      <th>2015-01-08 01:40:00</th>\n",
       "      <td>273.20</td>\n",
       "      <td>351.38</td>\n",
       "      <td>348.77</td>\n",
       "      <td>351.38</td>\n",
       "      <td>0.11</td>\n",
       "    </tr>\n",
       "  </tbody>\n",
       "</table>\n",
       "</div>"
      ],
      "text/plain": [
       "                        low    high    open   close  volume\n",
       "timestamp                                                  \n",
       "2015-01-08 01:20:00  360.00  360.00  360.00  360.00    0.01\n",
       "2015-01-08 01:25:00  271.60  344.67  271.84  344.67    0.06\n",
       "2015-01-08 01:30:00  270.35  346.41  346.41  321.98    0.13\n",
       "2015-01-08 01:35:00  281.36  349.67  302.25  341.35    0.11\n",
       "2015-01-08 01:40:00  273.20  351.38  348.77  351.38    0.11"
      ]
     },
     "execution_count": 177,
     "metadata": {},
     "output_type": "execute_result"
    }
   ],
   "source": [
    "dd.head()"
   ]
  },
  {
   "cell_type": "markdown",
   "metadata": {},
   "source": [
    "take the mean of low, high, open, close"
   ]
  },
  {
   "cell_type": "code",
   "execution_count": 186,
   "metadata": {
    "collapsed": true
   },
   "outputs": [],
   "source": [
    "df = pd.DataFrame(dd[['low', 'high', 'open', 'close']].mean(axis=1), columns=['data'])"
   ]
  },
  {
   "cell_type": "code",
   "execution_count": 188,
   "metadata": {
    "collapsed": true
   },
   "outputs": [],
   "source": [
    "df['volume'] = dd['volume']"
   ]
  },
  {
   "cell_type": "code",
   "execution_count": null,
   "metadata": {
    "collapsed": true
   },
   "outputs": [],
   "source": [
    "#df = pd.DataFrame(dd[['close', 'volume']])"
   ]
  },
  {
   "cell_type": "code",
   "execution_count": null,
   "metadata": {
    "collapsed": true
   },
   "outputs": [],
   "source": [
    "df.head()"
   ]
  },
  {
   "cell_type": "markdown",
   "metadata": {},
   "source": [
    "-----------------"
   ]
  },
  {
   "cell_type": "markdown",
   "metadata": {},
   "source": [
    "percentage change, to detect interesting events"
   ]
  },
  {
   "cell_type": "code",
   "execution_count": 192,
   "metadata": {
    "collapsed": true
   },
   "outputs": [],
   "source": [
    "change = pd.DataFrame(df.data.pct_change(1))\n",
    "change.columns = ['percent_change']\n",
    "change.dropna(inplace=True)"
   ]
  },
  {
   "cell_type": "code",
   "execution_count": 198,
   "metadata": {},
   "outputs": [
    {
     "name": "stderr",
     "output_type": "stream",
     "text": [
      "/home/gasia/anaconda3/lib/python3.6/site-packages/plotly/plotly/plotly.py:224: UserWarning:\n",
      "\n",
      "Woah there! Look at all those points! Due to browser limitations, the Plotly SVG drawing functions have a hard time graphing more than 500k data points for line charts, or 40k points for other types of charts. Here are some suggestions:\n",
      "(1) Use the `plotly.graph_objs.Scattergl` trace object to generate a WebGl graph.\n",
      "(2) Trying using the image API to return an image instead of a graph URL\n",
      "(3) Use matplotlib\n",
      "(4) See if you can create your visualization with fewer data points\n",
      "\n",
      "If the visualization you're using aggregates points (e.g., box plot, histogram, etc.) you can disregard this warning.\n",
      "\n"
     ]
    },
    {
     "data": {
      "text/html": [
       "<iframe id=\"igraph\" scrolling=\"no\" style=\"border:none;\" seamless=\"seamless\" src=\"https://plot.ly/~gasia4444/4.embed\" height=\"525px\" width=\"100%\"></iframe>"
      ],
      "text/plain": [
       "<plotly.tools.PlotlyDisplay object>"
      ]
     },
     "execution_count": 198,
     "metadata": {},
     "output_type": "execute_result"
    }
   ],
   "source": [
    "data = [go.Histogram(x=change.percent_change.values)]\n",
    "py.iplot(data, filename='histogram')"
   ]
  },
  {
   "cell_type": "code",
   "execution_count": 201,
   "metadata": {},
   "outputs": [
    {
     "name": "stderr",
     "output_type": "stream",
     "text": [
      "/home/gasia/anaconda3/lib/python3.6/site-packages/plotly/plotly/plotly.py:224: UserWarning:\n",
      "\n",
      "Woah there! Look at all those points! Due to browser limitations, the Plotly SVG drawing functions have a hard time graphing more than 500k data points for line charts, or 40k points for other types of charts. Here are some suggestions:\n",
      "(1) Use the `plotly.graph_objs.Scattergl` trace object to generate a WebGl graph.\n",
      "(2) Trying using the image API to return an image instead of a graph URL\n",
      "(3) Use matplotlib\n",
      "(4) See if you can create your visualization with fewer data points\n",
      "\n",
      "If the visualization you're using aggregates points (e.g., box plot, histogram, etc.) you can disregard this warning.\n",
      "\n"
     ]
    },
    {
     "name": "stdout",
     "output_type": "stream",
     "text": [
      "High five! You successfully sent some data to your account on plotly. View your plot in your browser at https://plot.ly/~gasia4444/0 or inside your plot.ly account where it is named 'gasia'\n"
     ]
    },
    {
     "name": "stderr",
     "output_type": "stream",
     "text": [
      "/home/gasia/anaconda3/lib/python3.6/site-packages/plotly/api/v1/clientresp.py:40: UserWarning:\n",
      "\n",
      "Estimated Draw Time Too Long\n",
      "\n"
     ]
    },
    {
     "data": {
      "text/html": [
       "<iframe id=\"igraph\" scrolling=\"no\" style=\"border:none;\" seamless=\"seamless\" src=\"https://plot.ly/~gasia4444/0.embed\" height=\"525px\" width=\"100%\"></iframe>"
      ],
      "text/plain": [
       "<plotly.tools.PlotlyDisplay object>"
      ]
     },
     "execution_count": 201,
     "metadata": {},
     "output_type": "execute_result"
    }
   ],
   "source": [
    "dd = df\n",
    "data = [\n",
    "       go.Scatter(\n",
    "          x = dd.index,\n",
    "          y = dd.data,\n",
    "          mode='lines',\n",
    "          name='data'),\n",
    "    \n",
    "    ]\n",
    "py.iplot(data, filename = 'gasia')"
   ]
  },
  {
   "cell_type": "code",
   "execution_count": null,
   "metadata": {
    "collapsed": true
   },
   "outputs": [],
   "source": [
    "spikes = change[np.abs(change.percent_change)>=0.05]"
   ]
  },
  {
   "cell_type": "code",
   "execution_count": 222,
   "metadata": {
    "collapsed": true
   },
   "outputs": [],
   "source": [
    "temp = pd.DataFrame(df['data'].rolling(5000).mean().dropna())"
   ]
  },
  {
   "cell_type": "code",
   "execution_count": 223,
   "metadata": {},
   "outputs": [
    {
     "data": {
      "text/plain": [
       "[<matplotlib.lines.Line2D at 0x7fc0d576f2b0>]"
      ]
     },
     "execution_count": 223,
     "metadata": {},
     "output_type": "execute_result"
    },
    {
     "data": {
      "image/png": "[encoded data removed]",
      "text/plain": [
       "<matplotlib.figure.Figure at 0x7fc0d63abc88>"
      ]
     },
     "metadata": {},
     "output_type": "display_data"
    }
   ],
   "source": [
    "plt.figure(figsize=(15,7))\n",
    "plt.plot(temp)"
   ]
  },
  {
   "cell_type": "code",
   "execution_count": 224,
   "metadata": {
    "collapsed": true
   },
   "outputs": [],
   "source": [
    "import numpy as np\n",
    "from scipy.signal import find_peaks_cwt\n",
    "indexes = find_peaks_cwt(df.data.values, np.arange(1, 550))"
   ]
  },
  {
   "cell_type": "code",
   "execution_count": 227,
   "metadata": {
    "collapsed": true
   },
   "outputs": [],
   "source": [
    "find_peaks_df = df.iloc[indexes]"
   ]
  },
  {
   "cell_type": "code",
   "execution_count": 234,
   "metadata": {},
   "outputs": [
    {
     "name": "stderr",
     "output_type": "stream",
     "text": [
      "/home/gasia/anaconda3/lib/python3.6/site-packages/plotly/plotly/plotly.py:224: UserWarning:\n",
      "\n",
      "Woah there! Look at all those points! Due to browser limitations, the Plotly SVG drawing functions have a hard time graphing more than 500k data points for line charts, or 40k points for other types of charts. Here are some suggestions:\n",
      "(1) Use the `plotly.graph_objs.Scattergl` trace object to generate a WebGl graph.\n",
      "(2) Trying using the image API to return an image instead of a graph URL\n",
      "(3) Use matplotlib\n",
      "(4) See if you can create your visualization with fewer data points\n",
      "\n",
      "If the visualization you're using aggregates points (e.g., box plot, histogram, etc.) you can disregard this warning.\n",
      "\n"
     ]
    },
    {
     "name": "stdout",
     "output_type": "stream",
     "text": [
      "High five! You successfully sent some data to your account on plotly. View your plot in your browser at https://plot.ly/~gasia4444/0 or inside your plot.ly account where it is named 'gasia'\n"
     ]
    },
    {
     "name": "stderr",
     "output_type": "stream",
     "text": [
      "/home/gasia/anaconda3/lib/python3.6/site-packages/plotly/api/v1/clientresp.py:40: UserWarning:\n",
      "\n",
      "Estimated Draw Time Too Long\n",
      "\n"
     ]
    },
    {
     "data": {
      "text/html": [
       "<iframe id=\"igraph\" scrolling=\"no\" style=\"border:none;\" seamless=\"seamless\" src=\"https://plot.ly/~gasia4444/0.embed\" height=\"525px\" width=\"100%\"></iframe>"
      ],
      "text/plain": [
       "<plotly.tools.PlotlyDisplay object>"
      ]
     },
     "execution_count": 234,
     "metadata": {},
     "output_type": "execute_result"
    }
   ],
   "source": [
    "data = [\n",
    "\n",
    "        go.Scatter(\n",
    "          x = df.index,\n",
    "          y = df.data,\n",
    "          mode='lines',\n",
    "          name='data'),\n",
    "        go.Scatter(\n",
    "          x = find_peaks_df.index,\n",
    "          y = find_peaks_df.data,\n",
    "          mode='markers',\n",
    "          name='min_max'),\n",
    "    \n",
    "    ]\n",
    "\n",
    "py.iplot(data, filename = 'gasia')"
   ]
  },
  {
   "cell_type": "code",
   "execution_count": 235,
   "metadata": {
    "collapsed": true
   },
   "outputs": [],
   "source": [
    "import sys\n",
    "from numpy import NaN, Inf, arange, isscalar, asarray, array\n",
    "\n",
    "def peakdet(v, delta, x = None):\n",
    "    \"\"\"\n",
    "    Converted from MATLAB script at http://billauer.co.il/peakdet.html\n",
    "    \n",
    "    Returns two arrays\n",
    "    \n",
    "    function [maxtab, mintab]=peakdet(v, delta, x)\n",
    "    %PEAKDET Detect peaks in a vector\n",
    "    %        [MAXTAB, MINTAB] = PEAKDET(V, DELTA) finds the local\n",
    "    %        maxima and minima (\"peaks\") in the vector V.\n",
    "    %        MAXTAB and MINTAB consists of two columns. Column 1\n",
    "    %        contains indices in V, and column 2 the found values.\n",
    "    %      \n",
    "    %        With [MAXTAB, MINTAB] = PEAKDET(V, DELTA, X) the indices\n",
    "    %        in MAXTAB and MINTAB are replaced with the corresponding\n",
    "    %        X-values.\n",
    "    %\n",
    "    %        A point is considered a maximum peak if it has the maximal\n",
    "    %        value, and was preceded (to the left) by a value lower by\n",
    "    %        DELTA.\n",
    "    \n",
    "    % Eli Billauer, 3.4.05 (Explicitly not copyrighted).\n",
    "    % This function is released to the public domain; Any use is allowed.\n",
    "    \n",
    "    \"\"\"\n",
    "    maxtab = []\n",
    "    mintab = []\n",
    "       \n",
    "    if x is None:\n",
    "        x = arange(len(v))\n",
    "    \n",
    "    v = asarray(v)\n",
    "    \n",
    "    if len(v) != len(x):\n",
    "        sys.exit('Input vectors v and x must have same length')\n",
    "    \n",
    "    if not isscalar(delta):\n",
    "        sys.exit('Input argument delta must be a scalar')\n",
    "    \n",
    "    if delta <= 0:\n",
    "        sys.exit('Input argument delta must be positive')\n",
    "    \n",
    "    mn, mx = Inf, -Inf\n",
    "    mnpos, mxpos = NaN, NaN\n",
    "    \n",
    "    lookformax = True\n",
    "    \n",
    "    for i in arange(len(v)):\n",
    "        this = v[i]\n",
    "        if this > mx:\n",
    "            mx = this\n",
    "            mxpos = x[i]\n",
    "        if this < mn:\n",
    "            mn = this\n",
    "            mnpos = x[i]\n",
    "        \n",
    "        if lookformax:\n",
    "            if this < mx-delta:\n",
    "                maxtab.append((mxpos, mx))\n",
    "                mn = this\n",
    "                mnpos = x[i]\n",
    "                lookformax = False\n",
    "        else:\n",
    "            if this > mn+delta:\n",
    "                mintab.append((mnpos, mn))\n",
    "                mx = this\n",
    "                mxpos = x[i]\n",
    "                lookformax = True\n",
    "\n",
    "    return array(maxtab), array(mintab)"
   ]
  },
  {
   "cell_type": "code",
   "execution_count": 271,
   "metadata": {},
   "outputs": [
    {
     "data": {
      "image/png": "[encoded data removed]",
      "text/plain": [
       "<matplotlib.figure.Figure at 0x7fc0cf196c88>"
      ]
     },
     "metadata": {},
     "output_type": "display_data"
    }
   ],
   "source": [
    "from matplotlib.pyplot import plot, scatter, show, figure\n",
    "# series = [0,0,0,2,0,0,0,-2,0,0,0,2,0,0,0,-2,0]\n",
    "series = df.data.values.tolist()\n",
    "maxtab, mintab = peakdet(series,1000)\n",
    "figure(figsize = (15,7))\n",
    "plot(series)\n",
    "scatter(array(maxtab)[:,0], array(maxtab)[:,1], color='black')\n",
    "scatter(array(mintab)[:,0], array(mintab)[:,1], color='red')\n",
    "show()"
   ]
  },
  {
   "cell_type": "code",
   "execution_count": 274,
   "metadata": {
    "collapsed": true
   },
   "outputs": [],
   "source": [
    "# pd.DataFrame(df.iloc[array(maxtab)[:,0]].data , index=df.iloc[array(maxtab)[:,0]].index).to_csv('max_btc.csv')\n",
    "# pd.DataFrame(df.iloc[array(mintab)[:,0]].data , index=df.iloc[array(mintab)[:,0]].index).to_csv('min_btc.csv')"
   ]
  },
  {
   "cell_type": "code",
   "execution_count": 273,
   "metadata": {},
   "outputs": [
    {
     "name": "stderr",
     "output_type": "stream",
     "text": [
      "/home/gasia/anaconda3/lib/python3.6/site-packages/plotly/plotly/plotly.py:224: UserWarning:\n",
      "\n",
      "Woah there! Look at all those points! Due to browser limitations, the Plotly SVG drawing functions have a hard time graphing more than 500k data points for line charts, or 40k points for other types of charts. Here are some suggestions:\n",
      "(1) Use the `plotly.graph_objs.Scattergl` trace object to generate a WebGl graph.\n",
      "(2) Trying using the image API to return an image instead of a graph URL\n",
      "(3) Use matplotlib\n",
      "(4) See if you can create your visualization with fewer data points\n",
      "\n",
      "If the visualization you're using aggregates points (e.g., box plot, histogram, etc.) you can disregard this warning.\n",
      "\n"
     ]
    },
    {
     "name": "stdout",
     "output_type": "stream",
     "text": [
      "High five! You successfully sent some data to your account on plotly. View your plot in your browser at https://plot.ly/~gasia4444/0 or inside your plot.ly account where it is named 'gasia'\n"
     ]
    },
    {
     "name": "stderr",
     "output_type": "stream",
     "text": [
      "/home/gasia/anaconda3/lib/python3.6/site-packages/plotly/api/v1/clientresp.py:40: UserWarning:\n",
      "\n",
      "Estimated Draw Time Too Long\n",
      "\n"
     ]
    },
    {
     "data": {
      "text/html": [
       "<iframe id=\"igraph\" scrolling=\"no\" style=\"border:none;\" seamless=\"seamless\" src=\"https://plot.ly/~gasia4444/0.embed\" height=\"525px\" width=\"100%\"></iframe>"
      ],
      "text/plain": [
       "<plotly.tools.PlotlyDisplay object>"
      ]
     },
     "execution_count": 273,
     "metadata": {},
     "output_type": "execute_result"
    }
   ],
   "source": [
    "data = [\n",
    "\n",
    "        go.Scatter(\n",
    "          x = df.index,\n",
    "          y = df.data,\n",
    "          mode='lines',\n",
    "          name='data'),\n",
    "        go.Scatter(\n",
    "          x = df.iloc[array(maxtab)[:,0]].index,\n",
    "          y = df.iloc[array(maxtab)[:,0]].data,\n",
    "          mode='markers',\n",
    "          name='max'),\n",
    "    \n",
    "            go.Scatter(\n",
    "          x = df.iloc[array(mintab)[:,0]].index,\n",
    "          y = df.iloc[array(mintab)[:,0]].data,\n",
    "          mode='markers',\n",
    "          name='min'),\n",
    "    \n",
    "    ]\n",
    "\n",
    "py.iplot(data, filename = 'gasia')"
   ]
  },
  {
   "cell_type": "code",
   "execution_count": null,
   "metadata": {
    "collapsed": true
   },
   "outputs": [],
   "source": []
  },
  {
   "cell_type": "code",
   "execution_count": null,
   "metadata": {
    "collapsed": true
   },
   "outputs": [],
   "source": []
  },
  {
   "cell_type": "code",
   "execution_count": null,
   "metadata": {
    "collapsed": true
   },
   "outputs": [],
   "source": []
  },
  {
   "cell_type": "code",
   "execution_count": null,
   "metadata": {
    "collapsed": true
   },
   "outputs": [],
   "source": [
    "np.corrcoef(df.volume.values[1:], change.percent_change.values)"
   ]
  },
  {
   "cell_type": "code",
   "execution_count": null,
   "metadata": {
    "collapsed": true
   },
   "outputs": [],
   "source": [
    "df.head()"
   ]
  },
  {
   "cell_type": "code",
   "execution_count": null,
   "metadata": {
    "collapsed": true
   },
   "outputs": [],
   "source": [
    "data = [\n",
    "       go.Scatter(\n",
    "          x = df.index,\n",
    "          y = df.close,\n",
    "          mode='lines',\n",
    "          name='low'),\n",
    "    \n",
    "        go.Scatter(\n",
    "          x = spikes.index,\n",
    "          y = df.loc[spikes.index].close,\n",
    "          mode='markers',\n",
    "          name='close'),\n",
    "    \n",
    "        go.Scatter(\n",
    "          x = dd.index,\n",
    "          y = dd.volume*10,\n",
    "          mode='lines',\n",
    "          name='volume'),\n",
    "    \n",
    "    ]\n",
    "py.iplot(data, filename = 'gasia')"
   ]
  },
  {
   "cell_type": "code",
   "execution_count": null,
   "metadata": {
    "collapsed": true
   },
   "outputs": [],
   "source": [
    "# spikes.to_csv(\"spike_price_change.csv\")"
   ]
  },
  {
   "cell_type": "code",
   "execution_count": null,
   "metadata": {
    "collapsed": true
   },
   "outputs": [],
   "source": [
    "data = [\n",
    "       go.Scatter(\n",
    "          x = dd.index,\n",
    "          y = dd.low,\n",
    "          mode='lines',\n",
    "          name='low'),\n",
    "    \n",
    "        go.Scatter(\n",
    "          x = dd.index,\n",
    "          y = dd.high,\n",
    "          mode='lines',\n",
    "          name='high'),\n",
    "    \n",
    "        go.Scatter(\n",
    "          x = dd.index,\n",
    "          y = dd.open,\n",
    "          mode='lines',\n",
    "          name='open'),\n",
    "    \n",
    "        go.Scatter(\n",
    "          x = dd.index,\n",
    "          y = dd.close,\n",
    "          mode='lines',\n",
    "          name='close'),\n",
    "    \n",
    "        go.Scatter(\n",
    "          x = dd.index,\n",
    "          y = dd.volume*10,\n",
    "          mode='lines',\n",
    "          name='volume'),\n",
    "    \n",
    "    ]\n",
    "py.iplot(data, filename = 'gasia')"
   ]
  },
  {
   "cell_type": "code",
   "execution_count": null,
   "metadata": {
    "collapsed": true
   },
   "outputs": [],
   "source": []
  },
  {
   "cell_type": "code",
   "execution_count": null,
   "metadata": {
    "collapsed": true
   },
   "outputs": [],
   "source": []
  },
  {
   "cell_type": "code",
   "execution_count": null,
   "metadata": {
    "collapsed": true
   },
   "outputs": [],
   "source": []
  },
  {
   "cell_type": "code",
   "execution_count": null,
   "metadata": {
    "collapsed": true
   },
   "outputs": [],
   "source": []
  },
  {
   "cell_type": "code",
   "execution_count": null,
   "metadata": {
    "collapsed": true
   },
   "outputs": [],
   "source": []
  },
  {
   "cell_type": "code",
   "execution_count": null,
   "metadata": {
    "collapsed": true
   },
   "outputs": [],
   "source": []
  },
  {
   "cell_type": "code",
   "execution_count": null,
   "metadata": {
    "collapsed": true
   },
   "outputs": [],
   "source": [
    "dif = df.diff(1)"
   ]
  },
  {
   "cell_type": "code",
   "execution_count": null,
   "metadata": {
    "collapsed": true
   },
   "outputs": [],
   "source": [
    "dif.dropna(inplace=True)"
   ]
  },
  {
   "cell_type": "code",
   "execution_count": null,
   "metadata": {
    "collapsed": true
   },
   "outputs": [],
   "source": [
    "# take ratio"
   ]
  },
  {
   "cell_type": "code",
   "execution_count": null,
   "metadata": {
    "collapsed": true
   },
   "outputs": [],
   "source": [
    "data = [\n",
    "       go.Scatter(\n",
    "          x = df.index,\n",
    "          y = np.log(df.close),\n",
    "          mode='lines',\n",
    "          name='dif'),\n",
    "    \n",
    "    \n",
    "    ]\n",
    "py.iplot(data, filename = 'gasia')"
   ]
  },
  {
   "cell_type": "code",
   "execution_count": 41,
   "metadata": {},
   "outputs": [
    {
     "name": "stderr",
     "output_type": "stream",
     "text": [
      "/home/gasia/anaconda3/lib/python3.6/site-packages/plotly/plotly/plotly.py:224: UserWarning:\n",
      "\n",
      "Woah there! Look at all those points! Due to browser limitations, the Plotly SVG drawing functions have a hard time graphing more than 500k data points for line charts, or 40k points for other types of charts. Here are some suggestions:\n",
      "(1) Use the `plotly.graph_objs.Scattergl` trace object to generate a WebGl graph.\n",
      "(2) Trying using the image API to return an image instead of a graph URL\n",
      "(3) Use matplotlib\n",
      "(4) See if you can create your visualization with fewer data points\n",
      "\n",
      "If the visualization you're using aggregates points (e.g., box plot, histogram, etc.) you can disregard this warning.\n",
      "\n"
     ]
    },
    {
     "name": "stdout",
     "output_type": "stream",
     "text": [
      "The draw time for this plot will be slow for all clients.\n"
     ]
    },
    {
     "name": "stderr",
     "output_type": "stream",
     "text": [
      "/home/gasia/anaconda3/lib/python3.6/site-packages/plotly/api/v1/clientresp.py:40: UserWarning:\n",
      "\n",
      "Estimated Draw Time Too Long\n",
      "\n"
     ]
    },
    {
     "data": {
      "text/html": [
       "<iframe id=\"igraph\" scrolling=\"no\" style=\"border:none;\" seamless=\"seamless\" src=\"https://plot.ly/~gasia44/107.embed\" height=\"525px\" width=\"100%\"></iframe>"
      ],
      "text/plain": [
       "<plotly.tools.PlotlyDisplay object>"
      ]
     },
     "execution_count": 41,
     "metadata": {},
     "output_type": "execute_result"
    }
   ],
   "source": [
    "data = [\n",
    "       go.Scatter(\n",
    "          x = dif.index,\n",
    "          y = dif.close,\n",
    "          mode='lines',\n",
    "          name='dif'),\n",
    "    \n",
    "    ]\n",
    "py.iplot(data, filename = 'gasia')"
   ]
  },
  {
   "cell_type": "code",
   "execution_count": 28,
   "metadata": {},
   "outputs": [
    {
     "name": "stderr",
     "output_type": "stream",
     "text": [
      "/home/gasia/anaconda3/lib/python3.6/site-packages/plotly/plotly/plotly.py:236: UserWarning:\n",
      "\n",
      "Woah there! Look at all those points! Due to browser limitations, the Plotly SVG drawing functions have a hard time graphing more than 500k data points for line charts, or 40k points for other types of charts. Here are some suggestions:\n",
      "(1) Use the `plotly.graph_objs.Scattergl` trace object to generate a WebGl graph.\n",
      "(2) Trying using the image API to return an image instead of a graph URL\n",
      "(3) Use matplotlib\n",
      "(4) See if you can create your visualization with fewer data points\n",
      "\n",
      "If the visualization you're using aggregates points (e.g., box plot, histogram, etc.) you can disregard this warning.\n",
      "\n"
     ]
    },
    {
     "data": {
      "text/html": [
       "<iframe id=\"igraph\" scrolling=\"no\" style=\"border:none;\" seamless=\"seamless\" src=\"https://plot.ly/~gasia44/109.embed\" height=\"525px\" width=\"100%\"></iframe>"
      ],
      "text/plain": [
       "<plotly.tools.PlotlyDisplay object>"
      ]
     },
     "execution_count": 28,
     "metadata": {},
     "output_type": "execute_result"
    }
   ],
   "source": [
    "x = dif.close.values\n",
    "data = [go.Histogram(x=x)]\n",
    "\n",
    "py.iplot(data, filename='basic histogram')"
   ]
  },
  {
   "cell_type": "code",
   "execution_count": 29,
   "metadata": {},
   "outputs": [
    {
     "name": "stderr",
     "output_type": "stream",
     "text": [
      "/home/gasia/anaconda3/lib/python3.6/site-packages/plotly/plotly/plotly.py:236: UserWarning:\n",
      "\n",
      "Woah there! Look at all those points! Due to browser limitations, the Plotly SVG drawing functions have a hard time graphing more than 500k data points for line charts, or 40k points for other types of charts. Here are some suggestions:\n",
      "(1) Use the `plotly.graph_objs.Scattergl` trace object to generate a WebGl graph.\n",
      "(2) Trying using the image API to return an image instead of a graph URL\n",
      "(3) Use matplotlib\n",
      "(4) See if you can create your visualization with fewer data points\n",
      "\n",
      "If the visualization you're using aggregates points (e.g., box plot, histogram, etc.) you can disregard this warning.\n",
      "\n"
     ]
    },
    {
     "data": {
      "text/html": [
       "<iframe id=\"igraph\" scrolling=\"no\" style=\"border:none;\" seamless=\"seamless\" src=\"https://plot.ly/~gasia44/111.embed\" height=\"525px\" width=\"100%\"></iframe>"
      ],
      "text/plain": [
       "<plotly.tools.PlotlyDisplay object>"
      ]
     },
     "execution_count": 29,
     "metadata": {},
     "output_type": "execute_result"
    }
   ],
   "source": [
    "data = [go.Histogram(x=x,\n",
    "                     cumulative=dict(enabled=True))]\n",
    "\n",
    "py.iplot(data, filename='cumulative histogram')"
   ]
  },
  {
   "cell_type": "code",
   "execution_count": 30,
   "metadata": {},
   "outputs": [
    {
     "data": {
      "text/plain": [
       "(array([  1.00000000e+00,   0.00000000e+00,   0.00000000e+00,\n",
       "          0.00000000e+00,   0.00000000e+00,   0.00000000e+00,\n",
       "          1.00000000e+00,   0.00000000e+00,   0.00000000e+00,\n",
       "          0.00000000e+00,   0.00000000e+00,   0.00000000e+00,\n",
       "          0.00000000e+00,   0.00000000e+00,   0.00000000e+00,\n",
       "          0.00000000e+00,   0.00000000e+00,   0.00000000e+00,\n",
       "          0.00000000e+00,   0.00000000e+00,   0.00000000e+00,\n",
       "          0.00000000e+00,   0.00000000e+00,   0.00000000e+00,\n",
       "          0.00000000e+00,   0.00000000e+00,   0.00000000e+00,\n",
       "          0.00000000e+00,   0.00000000e+00,   0.00000000e+00,\n",
       "          0.00000000e+00,   1.00000000e+00,   1.00000000e+00,\n",
       "          0.00000000e+00,   0.00000000e+00,   1.00000000e+00,\n",
       "          0.00000000e+00,   0.00000000e+00,   0.00000000e+00,\n",
       "          0.00000000e+00,   0.00000000e+00,   0.00000000e+00,\n",
       "          0.00000000e+00,   0.00000000e+00,   0.00000000e+00,\n",
       "          0.00000000e+00,   0.00000000e+00,   0.00000000e+00,\n",
       "          0.00000000e+00,   0.00000000e+00,   1.00000000e+00,\n",
       "          1.00000000e+00,   0.00000000e+00,   1.00000000e+00,\n",
       "          3.00000000e+00,   3.00000000e+00,   3.00000000e+00,\n",
       "          9.00000000e+00,   8.00000000e+00,   1.10000000e+01,\n",
       "          2.60000000e+01,   4.20000000e+01,   8.70000000e+01,\n",
       "          1.95000000e+02,   6.10000000e+02,   2.37500000e+03,\n",
       "          1.42042000e+05,   1.72190000e+04,   1.97100000e+03,\n",
       "          4.97000000e+02,   1.64000000e+02,   8.60000000e+01,\n",
       "          3.80000000e+01,   1.20000000e+01,   1.10000000e+01,\n",
       "          1.10000000e+01,   5.00000000e+00,   3.00000000e+00,\n",
       "          5.00000000e+00,   1.00000000e+00,   1.00000000e+00,\n",
       "          0.00000000e+00,   0.00000000e+00,   0.00000000e+00,\n",
       "          0.00000000e+00,   0.00000000e+00,   0.00000000e+00,\n",
       "          0.00000000e+00,   0.00000000e+00,   3.00000000e+00,\n",
       "          0.00000000e+00,   1.00000000e+00,   0.00000000e+00,\n",
       "          1.00000000e+00,   0.00000000e+00,   0.00000000e+00,\n",
       "          0.00000000e+00,   0.00000000e+00,   1.00000000e+00,\n",
       "          1.00000000e+00]),\n",
       " array([ -3.30201000e+03,  -3.25268000e+03,  -3.20335000e+03,\n",
       "         -3.15402000e+03,  -3.10469000e+03,  -3.05536000e+03,\n",
       "         -3.00603000e+03,  -2.95670000e+03,  -2.90737000e+03,\n",
       "         -2.85804000e+03,  -2.80871000e+03,  -2.75938000e+03,\n",
       "         -2.71005000e+03,  -2.66072000e+03,  -2.61139000e+03,\n",
       "         -2.56206000e+03,  -2.51273000e+03,  -2.46340000e+03,\n",
       "         -2.41407000e+03,  -2.36474000e+03,  -2.31541000e+03,\n",
       "         -2.26608000e+03,  -2.21675000e+03,  -2.16742000e+03,\n",
       "         -2.11809000e+03,  -2.06876000e+03,  -2.01943000e+03,\n",
       "         -1.97010000e+03,  -1.92077000e+03,  -1.87144000e+03,\n",
       "         -1.82211000e+03,  -1.77278000e+03,  -1.72345000e+03,\n",
       "         -1.67412000e+03,  -1.62479000e+03,  -1.57546000e+03,\n",
       "         -1.52613000e+03,  -1.47680000e+03,  -1.42747000e+03,\n",
       "         -1.37814000e+03,  -1.32881000e+03,  -1.27948000e+03,\n",
       "         -1.23015000e+03,  -1.18082000e+03,  -1.13149000e+03,\n",
       "         -1.08216000e+03,  -1.03283000e+03,  -9.83500000e+02,\n",
       "         -9.34170000e+02,  -8.84840000e+02,  -8.35510000e+02,\n",
       "         -7.86180000e+02,  -7.36850000e+02,  -6.87520000e+02,\n",
       "         -6.38190000e+02,  -5.88860000e+02,  -5.39530000e+02,\n",
       "         -4.90200000e+02,  -4.40870000e+02,  -3.91540000e+02,\n",
       "         -3.42210000e+02,  -2.92880000e+02,  -2.43550000e+02,\n",
       "         -1.94220000e+02,  -1.44890000e+02,  -9.55600000e+01,\n",
       "         -4.62300000e+01,   3.10000000e+00,   5.24300000e+01,\n",
       "          1.01760000e+02,   1.51090000e+02,   2.00420000e+02,\n",
       "          2.49750000e+02,   2.99080000e+02,   3.48410000e+02,\n",
       "          3.97740000e+02,   4.47070000e+02,   4.96400000e+02,\n",
       "          5.45730000e+02,   5.95060000e+02,   6.44390000e+02,\n",
       "          6.93720000e+02,   7.43050000e+02,   7.92380000e+02,\n",
       "          8.41710000e+02,   8.91040000e+02,   9.40370000e+02,\n",
       "          9.89700000e+02,   1.03903000e+03,   1.08836000e+03,\n",
       "          1.13769000e+03,   1.18702000e+03,   1.23635000e+03,\n",
       "          1.28568000e+03,   1.33501000e+03,   1.38434000e+03,\n",
       "          1.43367000e+03,   1.48300000e+03,   1.53233000e+03,\n",
       "          1.58166000e+03,   1.63099000e+03]),\n",
       " <a list of 100 Patch objects>)"
      ]
     },
     "execution_count": 30,
     "metadata": {},
     "output_type": "execute_result"
    },
    {
     "data": {
      "image/png": "[encoded data removed]",
      "text/plain": [
       "<matplotlib.figure.Figure at 0x7ff3d9f29978>"
      ]
     },
     "metadata": {},
     "output_type": "display_data"
    }
   ],
   "source": [
    "plt.figure(figsize=(15,7))\n",
    "plt.hist(dif.close.values, bins =100)"
   ]
  },
  {
   "cell_type": "code",
   "execution_count": null,
   "metadata": {
    "collapsed": true
   },
   "outputs": [],
   "source": []
  }
 ],
 "metadata": {
  "kernelspec": {
   "display_name": "Python 3",
   "language": "python",
   "name": "python3"
  },
  "language_info": {
   "codemirror_mode": {
    "name": "ipython",
    "version": 3
   },
   "file_extension": ".py",
   "mimetype": "text/x-python",
   "name": "python",
   "nbconvert_exporter": "python",
   "pygments_lexer": "ipython3",
   "version": "3.6.3"
  }
 },
 "nbformat": 4,
 "nbformat_minor": 2
}
